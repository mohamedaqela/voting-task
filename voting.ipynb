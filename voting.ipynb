{
 "cells": [
  {
   "cell_type": "code",
   "execution_count": 29,
   "id": "baa0ebb1-9dd2-4c8a-b1ac-c77b164632d1",
   "metadata": {},
   "outputs": [
    {
     "name": "stdout",
     "output_type": "stream",
     "text": [
      "Candidate 'baraa' has been added.\n",
      "Candidate 'omar' has been added.\n",
      "Candidate 'mohamed' has been added.\n",
      "Candidates: ['baraa', 'omar', 'mohamed']\n",
      "Vote cast for 'baraa'.\n",
      "Vote cast for 'baraa'.\n",
      "Vote cast for 'omar'.\n",
      "baraa has received 2 votes.\n",
      "omar has received 1 votes.\n",
      "mohamed has received 0 votes.\n",
      "The winner is 'baraa' with 2 votes.\n"
     ]
    }
   ],
   "source": [
    "class VotingSystem:\n",
    "    def __init__(self):\n",
    "        self.candidates = {}  \n",
    "\n",
    "    def add_candidate(self, name):\n",
    "        if name not in self.candidates:\n",
    "            self.candidates[name] = 0\n",
    "            print(f\"Candidate '{name}' has been added.\")\n",
    "        else:\n",
    "            print(f\"Candidate '{name}' already exists!\")\n",
    "\n",
    "    def show_candidates(self):\n",
    "        print(\"Candidates:\", list(self.candidates.keys()))\n",
    "\n",
    "    def vote(self, name):\n",
    "        if name in self.candidates:\n",
    "            self.candidates[name] += 1\n",
    "            print(f\"Vote cast for '{name}'.\")\n",
    "        else:\n",
    "            print(f\"No candidate found with the name '{name}'.\")\n",
    "\n",
    "    def get_result_of_candidate(self, name):\n",
    "        if name in self.candidates:\n",
    "            print(f\"{name} has received {self.candidates[name]} votes.\")\n",
    "        else:\n",
    "            print(f\"No candidate found with the name '{name}'.\")\n",
    "\n",
    "    def display_winner(self):\n",
    "        if self.candidates:\n",
    "            winner = max(self.candidates, key=self.candidates.get)\n",
    "            print(f\"The winner is '{winner}' with {self.candidates[winner]} votes.\")\n",
    "        else:\n",
    "            print(\"No candidates available!\")\n",
    "\n",
    "voting = VotingSystem()\n",
    "\n",
    "voting.add_candidate(\"baraa\")\n",
    "voting.add_candidate(\"omar\")\n",
    "voting.add_candidate(\"mohamed\")\n",
    "\n",
    "voting.show_candidates()\n",
    "\n",
    "voting.vote(\"baraa\")\n",
    "voting.vote(\"baraa\")\n",
    "voting.vote(\"omar\")\n",
    "\n",
    "voting.get_result_of_candidate(\"baraa\")\n",
    "voting.get_result_of_candidate(\"omar\")\n",
    "voting.get_result_of_candidate(\"mohamed\")\n",
    "\n",
    "voting.display_winner()\n"
   ]
  },
  {
   "cell_type": "code",
   "execution_count": null,
   "id": "6d6c8bed-11aa-4cd7-8aa5-37e799d9d048",
   "metadata": {},
   "outputs": [],
   "source": []
  },
  {
   "cell_type": "code",
   "execution_count": null,
   "id": "bb1be5b0-8090-4f9b-aa35-9f86570a009f",
   "metadata": {},
   "outputs": [],
   "source": []
  },
  {
   "cell_type": "code",
   "execution_count": null,
   "id": "cf8483bb-0839-4288-95cd-03d230225e00",
   "metadata": {},
   "outputs": [],
   "source": []
  }
 ],
 "metadata": {
  "kernelspec": {
   "display_name": "Python 3 (ipykernel)",
   "language": "python",
   "name": "python3"
  },
  "language_info": {
   "codemirror_mode": {
    "name": "ipython",
    "version": 3
   },
   "file_extension": ".py",
   "mimetype": "text/x-python",
   "name": "python",
   "nbconvert_exporter": "python",
   "pygments_lexer": "ipython3",
   "version": "3.12.7"
  }
 },
 "nbformat": 4,
 "nbformat_minor": 5
}
